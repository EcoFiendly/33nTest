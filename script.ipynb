{
 "cells": [
  {
   "cell_type": "code",
   "execution_count": 206,
   "id": "f0d72b8d",
   "metadata": {},
   "outputs": [],
   "source": [
    "# imports\n",
    "import pandas as pd"
   ]
  },
  {
   "cell_type": "markdown",
   "id": "696beb61",
   "metadata": {},
   "source": [
    "for each patient,\n",
    "check most recent diagnosis\n",
    "write to new column for all of the same patient"
   ]
  },
  {
   "cell_type": "code",
   "execution_count": 215,
   "id": "0a4b2350",
   "metadata": {},
   "outputs": [],
   "source": [
    "# read files\n",
    "diag = pd.read_csv(\"diagnoses.csv\")\n",
    "events = pd.read_csv(\"events.csv\")"
   ]
  },
  {
   "cell_type": "code",
   "execution_count": 216,
   "id": "9f681c08",
   "metadata": {},
   "outputs": [],
   "source": [
    "# change DiagnosisDateTime to datetime format\n",
    "diag.DiagnosisDateTime = diag.DiagnosisDateTime.apply(pd.to_datetime)"
   ]
  },
  {
   "cell_type": "code",
   "execution_count": 209,
   "id": "98e29a72",
   "metadata": {},
   "outputs": [],
   "source": [
    "# group by EventID and select most recent diagnosis\n",
    "diag = diag.loc[diag.reset_index().groupby(['EventID'])['DiagnosisDateTime'].idxmax()]\n",
    "diag = diag.rename(columns={'Diagnosis':'MostRecentDiagnosis'})"
   ]
  },
  {
   "cell_type": "code",
   "execution_count": 210,
   "id": "7fc2bdc4",
   "metadata": {},
   "outputs": [],
   "source": [
    "# create dictionary of the events with their most recent diagnosis\n",
    "mostRecentDict = dict(zip(diag.EventID, diag.MostRecentDiagnosis))"
   ]
  },
  {
   "cell_type": "code",
   "execution_count": 211,
   "id": "04cb6ef7",
   "metadata": {},
   "outputs": [
    {
     "data": {
      "text/plain": [
       "{'223f3ffa-15e4-4b29-a328-488369b8c127': 'B',\n",
       " '3f56f414-5005-41ad-812c-5afa8107305a': 'D',\n",
       " 'ed7f9b79-e1e1-432e-a4f8-5282286dacac': 'A',\n",
       " 'f557b132-6e09-4b8f-9762-e4724c00d007': 'C'}"
      ]
     },
     "execution_count": 211,
     "metadata": {},
     "output_type": "execute_result"
    }
   ],
   "source": [
    "mostRecentDict"
   ]
  },
  {
   "cell_type": "code",
   "execution_count": 212,
   "id": "d099a1d3",
   "metadata": {},
   "outputs": [],
   "source": [
    "# map most recent diagnosis onto events using EventID as a key\n",
    "events['MostRecentDiagnosis'] = events['EventID'].map(mostRecentDict)"
   ]
  },
  {
   "cell_type": "code",
   "execution_count": 219,
   "id": "d0682281",
   "metadata": {},
   "outputs": [],
   "source": [
    "# if required to write to output file\n",
    "# events.to_csv('output.csv')"
   ]
  }
 ],
 "metadata": {
  "kernelspec": {
   "display_name": "LDAproject",
   "language": "python",
   "name": "ldaproject"
  },
  "language_info": {
   "codemirror_mode": {
    "name": "ipython",
    "version": 3
   },
   "file_extension": ".py",
   "mimetype": "text/x-python",
   "name": "python",
   "nbconvert_exporter": "python",
   "pygments_lexer": "ipython3",
   "version": "3.9.5"
  }
 },
 "nbformat": 4,
 "nbformat_minor": 5
}
